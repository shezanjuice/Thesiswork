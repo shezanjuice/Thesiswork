{
 "cells": [
  {
   "cell_type": "code",
   "execution_count": 2,
   "id": "61383c07-553b-4ca0-a68e-6a665beab08c",
   "metadata": {},
   "outputs": [
    {
     "name": "stderr",
     "output_type": "stream",
     "text": [
      "Training the SVM model: 100%|██████████| 1/1 [45:50<00:00, 2750.08s/it]\n"
     ]
    },
    {
     "name": "stdout",
     "output_type": "stream",
     "text": [
      "Accuracy on the Test Set: 90.17%\n",
      "\n",
      "Classification Report:\n",
      "              precision    recall  f1-score   support\n",
      "\n",
      "           0       0.95      0.94      0.94     45340\n",
      "           1       0.92      0.93      0.92     52802\n",
      "           2       0.79      0.77      0.78     12821\n",
      "           3       0.92      0.91      0.91     21605\n",
      "           4       0.85      0.87      0.86     18051\n",
      "           5       0.75      0.70      0.72      5685\n",
      "\n",
      "    accuracy                           0.90    156304\n",
      "   macro avg       0.86      0.85      0.86    156304\n",
      "weighted avg       0.90      0.90      0.90    156304\n",
      "\n"
     ]
    },
    {
     "data": {
      "text/plain": [
       "['tfidf_vectorizer.pkl']"
      ]
     },
     "execution_count": 2,
     "metadata": {},
     "output_type": "execute_result"
    }
   ],
   "source": [
    "import pandas as pd\n",
    "from sklearn.model_selection import train_test_split\n",
    "from sklearn.feature_extraction.text import TfidfVectorizer\n",
    "from sklearn.svm import SVC\n",
    "from sklearn.metrics import accuracy_score, classification_report\n",
    "from tqdm import tqdm  # Import the tqdm library\n",
    "import joblib\n",
    "\n",
    "data = pd.read_csv('datasetofsenti.csv')\n",
    "data = data.drop(columns=[\"Unnamed: 0\"], errors=\"ignore\")\n",
    "\n",
    "train_texts, test_texts, train_labels, test_labels = train_test_split(\n",
    "    data[\"text\"], data[\"label\"], test_size=0.375, random_state=42\n",
    ")\n",
    "\n",
    "vectorizer = TfidfVectorizer(max_features=10000, ngram_range=(1, 2), stop_words=\"english\")\n",
    "X_train = vectorizer.fit_transform(train_texts)\n",
    "X_test = vectorizer.transform(test_texts)\n",
    "\n",
    "\n",
    "svm_model = SVC(kernel=\"linear\", C=1.0, random_state=42)\n",
    "\n",
    "for i in tqdm(range(1), desc=\"Training the SVM model\"):\n",
    "    svm_model.fit(X_train, train_labels)\n",
    "\n",
    "predictions = svm_model.predict(X_test)\n",
    "\n",
    "accuracy = accuracy_score(test_labels, predictions)\n",
    "print(f\"Accuracy on the Test Set: {accuracy * 100:.2f}%\")\n",
    "\n",
    "print(\"\\nClassification Report:\")\n",
    "print(classification_report(test_labels, predictions))\n",
    "\n",
    "joblib.dump(svm_model, 'svm_sentiment_model.pkl')\n",
    "joblib.dump(vectorizer, 'tfidf_vectorizer.pkl')\n"
   ]
  },
  {
   "cell_type": "code",
   "execution_count": null,
   "id": "be5f4776-c1f6-4fdb-9370-2dde92ab1894",
   "metadata": {},
   "outputs": [],
   "source": []
  }
 ],
 "metadata": {
  "kernelspec": {
   "display_name": "Python 3 (ipykernel)",
   "language": "python",
   "name": "python3"
  },
  "language_info": {
   "codemirror_mode": {
    "name": "ipython",
    "version": 3
   },
   "file_extension": ".py",
   "mimetype": "text/x-python",
   "name": "python",
   "nbconvert_exporter": "python",
   "pygments_lexer": "ipython3",
   "version": "3.12.3"
  }
 },
 "nbformat": 4,
 "nbformat_minor": 5
}
