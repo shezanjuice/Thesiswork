{
 "cells": [
  {
   "cell_type": "code",
   "execution_count": 4,
   "id": "0e8d3004-66c0-440d-9362-83ec83178d57",
   "metadata": {},
   "outputs": [
    {
     "data": {
      "application/vnd.jupyter.widget-view+json": {
       "model_id": "a878efed889243b293847b0a9933d809",
       "version_major": 2,
       "version_minor": 0
      },
      "text/plain": [
       "Map:   0%|          | 0/260505 [00:00<?, ? examples/s]"
      ]
     },
     "metadata": {},
     "output_type": "display_data"
    },
    {
     "data": {
      "application/vnd.jupyter.widget-view+json": {
       "model_id": "d0aa6b9ca3aa4d00be326f87c1fb6de6",
       "version_major": 2,
       "version_minor": 0
      },
      "text/plain": [
       "Map:   0%|          | 0/156304 [00:00<?, ? examples/s]"
      ]
     },
     "metadata": {},
     "output_type": "display_data"
    },
    {
     "name": "stderr",
     "output_type": "stream",
     "text": [
      "Some weights of RobertaForSequenceClassification were not initialized from the model checkpoint at roberta-base and are newly initialized: ['classifier.dense.bias', 'classifier.dense.weight', 'classifier.out_proj.bias', 'classifier.out_proj.weight']\n",
      "You should probably TRAIN this model on a down-stream task to be able to use it for predictions and inference.\n",
      "C:\\Users\\Shezan\\anaconda3\\lib\\site-packages\\transformers\\training_args.py:1575: FutureWarning: `evaluation_strategy` is deprecated and will be removed in version 4.46 of 🤗 Transformers. Use `eval_strategy` instead\n",
      "  warnings.warn(\n",
      "C:\\Users\\Shezan\\AppData\\Local\\Temp\\ipykernel_21620\\3842961004.py:77: FutureWarning: `tokenizer` is deprecated and will be removed in version 5.0.0 for `Trainer.__init__`. Use `processing_class` instead.\n",
      "  trainer = Trainer(\n"
     ]
    },
    {
     "data": {
      "text/html": [
       "\n",
       "    <div>\n",
       "      \n",
       "      <progress value='12210' max='12210' style='width:300px; height:20px; vertical-align: middle;'></progress>\n",
       "      [12210/12210 34:39, Epoch 2/3]\n",
       "    </div>\n",
       "    <table border=\"1\" class=\"dataframe\">\n",
       "  <thead>\n",
       " <tr style=\"text-align: left;\">\n",
       "      <th>Epoch</th>\n",
       "      <th>Training Loss</th>\n",
       "      <th>Validation Loss</th>\n",
       "      <th>Accuracy</th>\n",
       "      <th>F1</th>\n",
       "      <th>Precision</th>\n",
       "      <th>Recall</th>\n",
       "    </tr>\n",
       "  </thead>\n",
       "  <tbody>\n",
       "    <tr>\n",
       "      <td>1</td>\n",
       "      <td>0.173100</td>\n",
       "      <td>0.101104</td>\n",
       "      <td>0.941153</td>\n",
       "      <td>0.940200</td>\n",
       "      <td>0.946144</td>\n",
       "      <td>0.941153</td>\n",
       "    </tr>\n",
       "    <tr>\n",
       "      <td>2</td>\n",
       "      <td>0.163400</td>\n",
       "      <td>0.090646</td>\n",
       "      <td>0.941863</td>\n",
       "      <td>0.942491</td>\n",
       "      <td>0.948851</td>\n",
       "      <td>0.941863</td>\n",
       "    </tr>\n",
       "  </tbody>\n",
       "</table><p>"
      ],
      "text/plain": [
       "<IPython.core.display.HTML object>"
      ]
     },
     "metadata": {},
     "output_type": "display_data"
    },
    {
     "data": {
      "text/html": [],
      "text/plain": [
       "<IPython.core.display.HTML object>"
      ]
     },
     "metadata": {},
     "output_type": "display_data"
    },
    {
     "name": "stdout",
     "output_type": "stream",
     "text": [
      "Training Time (s): 2079.88729429245\n",
      "Evaluation Time (s): 96.07790231704712\n",
      "Accuracy: 94.19%\n",
      "F1 Score: 0.9425\n",
      "Precision: 0.9489\n",
      "Recall: 0.9419\n",
      "AUC-ROC: 0.9983\n",
      "Confusion Matrix:\n",
      "[[43364    33     0  1077   820    46]\n",
      " [   17 48620  3837    41    17   270]\n",
      " [    5     7 12808     1     0     0]\n",
      " [   49    45     1 21460    50     0]\n",
      " [   29    21     0   923 17078     0]\n",
      " [    2   223     0     0  1573  3887]]\n",
      "Model Size (MB): 0.0\n",
      "Device: cuda\n",
      "Total Execution Time (s): 2331.8662889003754\n"
     ]
    }
   ],
   "source": [
    "import pandas as pd\n",
    "from sklearn.model_selection import train_test_split\n",
    "from transformers import RobertaTokenizer, RobertaForSequenceClassification, TrainingArguments, Trainer\n",
    "from datasets import Dataset\n",
    "from sklearn.metrics import accuracy_score, precision_recall_fscore_support, roc_auc_score, confusion_matrix\n",
    "import torch\n",
    "import time\n",
    "import numpy as np\n",
    "import os\n",
    "from torch.utils.data import DataLoader\n",
    "\n",
    "start_time = time.time()\n",
    "\n",
    "# Load dataset\n",
    "data = pd.read_csv('datasetofsenti.csv').drop(columns=[\"Unnamed: 0\"], errors=\"ignore\")\n",
    "\n",
    "# Split dataset\n",
    "train_texts, test_texts, train_labels, test_labels = train_test_split(\n",
    "    data[\"text\"], data[\"label\"], test_size=0.375, random_state=42\n",
    ")\n",
    "\n",
    "# Tokenizer initialization\n",
    "tokenizer = RobertaTokenizer.from_pretrained(\"roberta-base\")\n",
    "\n",
    "def tokenize_function(examples):\n",
    "    return tokenizer(examples[\"text\"], truncation=True, padding=\"max_length\", max_length=128)\n",
    "\n",
    "# Prepare datasets\n",
    "train_dataset = Dataset.from_dict({\"text\": train_texts, \"label\": train_labels})\n",
    "test_dataset = Dataset.from_dict({\"text\": test_texts, \"label\": test_labels})\n",
    "train_dataset = train_dataset.map(tokenize_function, batched=True, remove_columns=[\"text\"])\n",
    "test_dataset = test_dataset.map(tokenize_function, batched=True, remove_columns=[\"text\"])\n",
    "train_dataset.set_format(\"torch\")\n",
    "test_dataset.set_format(\"torch\")\n",
    "\n",
    "# DataLoader for efficient data loading\n",
    "train_loader = DataLoader(train_dataset, batch_size=32, shuffle=True)\n",
    "test_loader = DataLoader(test_dataset, batch_size=32)\n",
    "\n",
    "# Model and device setup\n",
    "model = RobertaForSequenceClassification.from_pretrained(\"roberta-base\", num_labels=len(data[\"label\"].unique()))\n",
    "device = torch.device(\"cuda\" if torch.cuda.is_available() else \"cpu\")\n",
    "model.to(device)\n",
    "\n",
    "# Training arguments and settings\n",
    "training_args = TrainingArguments(\n",
    "    output_dir=\"./results\",\n",
    "    evaluation_strategy=\"epoch\",\n",
    "    save_strategy=\"epoch\",\n",
    "    per_device_train_batch_size=32,\n",
    "    per_device_eval_batch_size=32,\n",
    "    num_train_epochs=3,\n",
    "    weight_decay=0.01,\n",
    "    logging_dir=\"./logs\",\n",
    "    logging_steps=10,\n",
    "    save_steps=500,\n",
    "    load_best_model_at_end=True,\n",
    "    metric_for_best_model=\"eval_accuracy\",\n",
    "    save_total_limit=1,\n",
    "    fp16=True,\n",
    "    gradient_accumulation_steps=2,  # Gradient accumulation\n",
    "    report_to=[]\n",
    ")\n",
    "\n",
    "def compute_metrics(pred):\n",
    "    logits, labels = pred\n",
    "    predictions = np.argmax(logits, axis=-1)\n",
    "    acc = accuracy_score(labels, predictions)\n",
    "    precision, recall, f1, _ = precision_recall_fscore_support(labels, predictions, average=\"weighted\")\n",
    "    return {\n",
    "        \"accuracy\": acc,\n",
    "        \"f1\": f1,\n",
    "        \"precision\": precision,\n",
    "        \"recall\": recall\n",
    "    }\n",
    "\n",
    "trainer = Trainer(\n",
    "    model=model,\n",
    "    args=training_args,\n",
    "    train_dataset=train_dataset,\n",
    "    eval_dataset=test_dataset,\n",
    "    tokenizer=tokenizer,\n",
    "    compute_metrics=compute_metrics,\n",
    ")\n",
    "\n",
    "# Training\n",
    "train_start_time = time.time()\n",
    "trainer.train()\n",
    "train_end_time = time.time()\n",
    "\n",
    "# Evaluation\n",
    "eval_start_time = time.time()\n",
    "results = trainer.evaluate()\n",
    "eval_end_time = time.time()\n",
    "\n",
    "predictions = trainer.predict(test_dataset)\n",
    "logits = predictions.predictions\n",
    "true_labels = test_labels.to_numpy()\n",
    "predicted_probs = torch.nn.functional.softmax(torch.tensor(logits), dim=-1).numpy()\n",
    "\n",
    "if predicted_probs.shape[1] == 2:\n",
    "    auc_roc = roc_auc_score(true_labels, predicted_probs[:, 1])\n",
    "else:\n",
    "    true_labels_one_hot = np.eye(predicted_probs.shape[1])[true_labels]\n",
    "    auc_roc = roc_auc_score(true_labels_one_hot, predicted_probs, average=\"weighted\", multi_class=\"ovr\")\n",
    "\n",
    "conf_matrix = confusion_matrix(true_labels, np.argmax(predicted_probs, axis=1))\n",
    "\n",
    "metrics = {\n",
    "    \"Training Time (s)\": train_end_time - train_start_time,\n",
    "    \"Evaluation Time (s)\": eval_end_time - eval_start_time,\n",
    "    \"Accuracy\": f\"{results['eval_accuracy']:.2%}\",\n",
    "    \"F1 Score\": f\"{results['eval_f1']:.4f}\",\n",
    "    \"Precision\": f\"{results['eval_precision']:.4f}\",\n",
    "    \"Recall\": f\"{results['eval_recall']:.4f}\",\n",
    "    \"AUC-ROC\": f\"{auc_roc:.4f}\",\n",
    "    \"Confusion Matrix\": conf_matrix,\n",
    "    \"Model Size (MB)\": os.path.getsize(\"./results\") / (1024 * 1024),\n",
    "    \"Device\": device,\n",
    "    \"Total Execution Time (s)\": time.time() - start_time\n",
    "}\n",
    "\n",
    "for key, value in metrics.items():\n",
    "    if key == \"Confusion Matrix\":\n",
    "        print(f\"{key}:\\n{value}\")\n",
    "    else:\n",
    "        print(f\"{key}: {value}\")"
   ]
  },
  {
   "cell_type": "code",
   "execution_count": null,
   "id": "b05ad2c7-4e29-4a5f-8237-83ef31f43f80",
   "metadata": {},
   "outputs": [],
   "source": []
  }
 ],
 "metadata": {
  "kernelspec": {
   "display_name": "Python 3 (ipykernel)",
   "language": "python",
   "name": "python3"
  },
  "language_info": {
   "codemirror_mode": {
    "name": "ipython",
    "version": 3
   },
   "file_extension": ".py",
   "mimetype": "text/x-python",
   "name": "python",
   "nbconvert_exporter": "python",
   "pygments_lexer": "ipython3",
   "version": "3.9.21"
  }
 },
 "nbformat": 4,
 "nbformat_minor": 5
}
